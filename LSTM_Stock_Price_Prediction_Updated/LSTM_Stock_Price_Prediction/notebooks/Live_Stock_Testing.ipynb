{
 "cells": [
  {
   "cell_type": "markdown",
   "id": "689add48",
   "metadata": {},
   "source": [
    "# 📈 Live Stock Testing\n",
    "Enter any stock ticker and run full pipeline to see LSTM prediction results on real data."
   ]
  },
  {
   "cell_type": "code",
   "execution_count": 1,
   "id": "14f0f5bf",
   "metadata": {},
   "outputs": [],
   "source": [
    "import yfinance as yf\n",
    "import pandas as pd\n",
    "import numpy as np\n",
    "import matplotlib.pyplot as plt\n",
    "from sklearn.preprocessing import MinMaxScaler\n",
    "from tensorflow.keras.models import Sequential\n",
    "from tensorflow.keras.layers import LSTM, Dense"
   ]
  },
  {
   "cell_type": "code",
   "execution_count": 2,
   "id": "49d0ab67",
   "metadata": {},
   "outputs": [],
   "source": [
    "def fetch_data(ticker):\n",
    "    df = yf.download(ticker, start='2018-01-01', end='2025-01-01')\n",
    "    return df[['Close']].dropna()\n",
    "\n",
    "def prepare_data(data, window_size=60):\n",
    "    scaler = MinMaxScaler()\n",
    "    scaled = scaler.fit_transform(data)\n",
    "    X, y = [], []\n",
    "    for i in range(window_size, len(scaled)):\n",
    "        X.append(scaled[i-window_size:i])\n",
    "        y.append(scaled[i])\n",
    "    return np.array(X), np.array(y), scaler\n",
    "\n",
    "def build_model(input_shape):\n",
    "    model = Sequential()\n",
    "    model.add(LSTM(units=50, return_sequences=False, input_shape=input_shape))\n",
    "    model.add(Dense(1))\n",
    "    model.compile(loss='mean_squared_error', optimizer='adam')\n",
    "    return model"
   ]
  }
 ],
 "metadata": {
  "kernelspec": {
   "display_name": "lstm_env",
   "language": "python",
   "name": "python3"
  },
  "language_info": {
   "codemirror_mode": {
    "name": "ipython",
    "version": 3
   },
   "file_extension": ".py",
   "mimetype": "text/x-python",
   "name": "python",
   "nbconvert_exporter": "python",
   "pygments_lexer": "ipython3",
   "version": "3.10.18"
  }
 },
 "nbformat": 4,
 "nbformat_minor": 5
}
